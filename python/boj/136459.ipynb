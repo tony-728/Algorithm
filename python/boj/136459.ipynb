{
 "cells": [
  {
   "cell_type": "code",
   "execution_count": 1,
   "metadata": {},
   "outputs": [
    {
     "name": "stdout",
     "output_type": "stream",
     "text": [
      "2\n"
     ]
    }
   ],
   "source": [
    "from collections import deque\n",
    "\n",
    "n, k = map(int, input().split())  # n: 수빈이가 있는 위치, k: 동생이 있는 위치\n",
    "q = deque()\n",
    "q.append(n) \n",
    "visited = [-1] * 100001\n",
    "visited[n] = 0\n",
    "\n",
    "while q:\n",
    "    s = q.popleft()\n",
    "    if s == k:\n",
    "        print(visited[s])\n",
    "        break\n",
    "    if 0 <= s-1 < 100001 and visited[s-1] == -1:\n",
    "        visited[s-1] = visited[s] + 1\n",
    "        q.append(s-1)\n",
    "    if 0 < s*2 < 100001 and visited[s*2] == -1:\n",
    "        visited[s*2] = visited[s]\n",
    "        q.append(s*2)\n",
    "    if 0 <= s+1 < 100001 and visited[s+1] == -1:\n",
    "        visited[s+1] = visited[s] + 1\n",
    "        q.append(s+1)\n"
   ]
  }
 ],
 "metadata": {
  "kernelspec": {
   "display_name": "Python 3.9.13 ('BOOSTCAMP')",
   "language": "python",
   "name": "python3"
  },
  "language_info": {
   "codemirror_mode": {
    "name": "ipython",
    "version": 3
   },
   "file_extension": ".py",
   "mimetype": "text/x-python",
   "name": "python",
   "nbconvert_exporter": "python",
   "pygments_lexer": "ipython3",
   "version": "3.9.13"
  },
  "orig_nbformat": 4,
  "vscode": {
   "interpreter": {
    "hash": "bff80542d41c1c0497747bf0ded1ee80828a5dc326b031fb71f2980f5cf580e7"
   }
  }
 },
 "nbformat": 4,
 "nbformat_minor": 2
}
