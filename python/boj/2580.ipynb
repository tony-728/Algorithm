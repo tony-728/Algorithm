{
 "cells": [
  {
   "cell_type": "code",
   "execution_count": null,
   "metadata": {},
   "outputs": [],
   "source": [
    "# 스도쿠\n",
    "'''\n",
    "아홉 줄에 걸쳐 한 줄에 9개씩 게임 시작 전 스도쿠판 각 줄에 쓰여 있는 숫자가 한 칸씩 띄워서 차례로 주어진다.\n",
    "스도쿠 판의 빈 칸의 경우에는 0이 주어진다.\n",
    "스도쿠 판을 규칙대로 채울 수 없는 경우의 입력은 주어지지 않는다.\n",
    "'''\n",
    "import sys\n",
    "\n",
    "input = sys.stdin.readline\n",
    "\n",
    "board = [list(map(int, input().split())) for _ in range(9)]\n",
    "\n",
    "\n"
   ]
  },
  {
   "cell_type": "code",
   "execution_count": 4,
   "metadata": {},
   "outputs": [
    {
     "name": "stdout",
     "output_type": "stream",
     "text": [
      "[(0, 7, 0, 3, 8, 5, 9, 6, 2), (3, 8, 6, 2, 0, 9, 1, 0, 5), (5, 2, 0, 1, 4, 6, 7, 3, 8), (4, 1, 2, 0, 9, 8, 6, 7, 3), (6, 0, 7, 4, 1, 2, 5, 0, 9), (9, 5, 8, 6, 3, 0, 2, 1, 4), (2, 6, 1, 8, 5, 4, 0, 9, 7), (7, 0, 3, 9, 0, 1, 8, 5, 6), (8, 9, 5, 7, 6, 3, 0, 2, 0)]\n"
     ]
    }
   ],
   "source": [
    "board = [\n",
    "    [0, 3, 5, 4, 6, 9, 2, 7, 8],\n",
    "    [7, 8, 2, 1, 0, 5, 6, 0, 9],\n",
    "    [0, 6, 0, 2, 7, 8, 1, 3, 5],\n",
    "    [3, 2, 1, 0, 4, 6, 8, 9, 7],\n",
    "    [8, 0, 4, 9, 1, 3, 5, 0, 6],\n",
    "    [5, 9, 6, 8, 2, 0, 4, 1, 3],\n",
    "    [9, 1, 7, 6, 5, 2, 0, 8, 0],\n",
    "    [6, 0, 3, 7, 0, 1, 9, 5, 2],\n",
    "    [2, 5, 8, 3, 9, 4, 7, 6, 0],\n",
    "]\n",
    "\n",
    "'''\n",
    "빈 곳을 채우기 위해서 1~9 중에서\n",
    "1. 같은 배열에 중복된 숫자가 있는지 확인\n",
    "2. 같은 인덱스의 중복된 숫자가 있는지 확인\n",
    "3. 정사각형에서 중복된 숫자가 있는지 확인\n",
    "    행과 열을 3으로 나눈 나머지를 조작\n",
    "'''\n",
    "board_t = list(zip(*board))\n",
    "\n",
    "print(board_t)\n",
    "\n",
    "\n",
    "def dfs(x):\n",
    "    for row in board:\n",
    "        for val in row:\n",
    "            if val == 0:\n",
    "                pass\n",
    "                for i in range(1, 10):\n",
    "                    if not i in row:\n",
    "                        \n",
    "                # 빈곳을 채우기 위해서 1-9숫자 중에서 넣는다.\n",
    "            \n",
    "\n",
    "        board[x] = i  # 퀀 올리기\n",
    "        if check(x):  # 퀀 놓기 조건 검사\n",
    "            visited[i] = True\n",
    "            dfs(x + 1)  # 다음 행으로 넘어감\n",
    "            visited[i] = False\n",
    "\n",
    "\n"
   ]
  },
  {
   "cell_type": "code",
   "execution_count": 2,
   "metadata": {},
   "outputs": [
    {
     "data": {
      "text/plain": [
       "False"
      ]
     },
     "execution_count": 2,
     "metadata": {},
     "output_type": "execute_result"
    }
   ],
   "source": [
    "n = 3\n",
    "\n",
    "a = [1,2,3]\n",
    "\n",
    "len(a) < n"
   ]
  }
 ],
 "metadata": {
  "kernelspec": {
   "display_name": "Python 3.9.13 ('BOOSTCAMP')",
   "language": "python",
   "name": "python3"
  },
  "language_info": {
   "codemirror_mode": {
    "name": "ipython",
    "version": 3
   },
   "file_extension": ".py",
   "mimetype": "text/x-python",
   "name": "python",
   "nbconvert_exporter": "python",
   "pygments_lexer": "ipython3",
   "version": "3.9.13"
  },
  "orig_nbformat": 4,
  "vscode": {
   "interpreter": {
    "hash": "bff80542d41c1c0497747bf0ded1ee80828a5dc326b031fb71f2980f5cf580e7"
   }
  }
 },
 "nbformat": 4,
 "nbformat_minor": 2
}
