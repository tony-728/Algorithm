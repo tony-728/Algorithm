{
 "cells": [
  {
   "cell_type": "code",
   "execution_count": null,
   "metadata": {},
   "outputs": [],
   "source": [
    "\"\"\"\n",
    "신고결과 받기\n",
    "유저ID list\n",
    "유저가 신고한 ID list of \"신고자, 피신고자\"\n",
    "\"\"\"\n",
    "\n",
    "\n",
    "from collections import defaultdict\n",
    "\n",
    "def solution(id_list, report, k): # 유저 ID, 유저가 신고한 ID list, 누적신고 기준\n",
    "    name_dic = defaultdict(set)  # 유저: 지목 리스트\n",
    "    warning_dic = defaultdict(int)  # 유저: 지목당한수\n",
    "    waring_lst = []\n",
    "    answer = [0 for _ in id_list]\n",
    "\n",
    "    for name in set(report):\n",
    "        do_report, be_reported = name.split()\n",
    "        name_dic[do_report].add(be_reported)\n",
    "        warning_dic[be_reported] += 1\n",
    "        \n",
    "        if warning_dic[be_reported] == k:\n",
    "            waring_lst.append(be_reported)\n",
    "\n",
    "    for s in waring_lst:\n",
    "        for i in range(len(id_list)):\n",
    "            if s in name_dic[id_list[i]]:\n",
    "                answer[i] += 1\n",
    "\n",
    "    return answer"
   ]
  }
 ],
 "metadata": {
  "kernelspec": {
   "display_name": "Python 3.9.12 ('dev39')",
   "language": "python",
   "name": "python3"
  },
  "language_info": {
   "codemirror_mode": {
    "name": "ipython",
    "version": 3
   },
   "file_extension": ".py",
   "mimetype": "text/x-python",
   "name": "python",
   "nbconvert_exporter": "python",
   "pygments_lexer": "ipython3",
   "version": "3.9.12"
  },
  "orig_nbformat": 4,
  "vscode": {
   "interpreter": {
    "hash": "25bb0f2e645651c095a989b7852ba09a5c03fbf51a763ba9b653368d1aed4972"
   }
  }
 },
 "nbformat": 4,
 "nbformat_minor": 2
}
