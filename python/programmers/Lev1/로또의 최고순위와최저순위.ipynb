{
 "cells": [
  {
   "cell_type": "code",
   "execution_count": null,
   "metadata": {},
   "outputs": [],
   "source": [
    "\"\"\"\n",
    "로또의 최고 순위와 최저 순위\n",
    "\"\"\"\n",
    "\n",
    "# lottos = list(map(int, input().split()))\n",
    "# win_nums = list(map, int, input().split())\n",
    "\n",
    "lottos = [44, 1, 0, 0, 31, 25]\n",
    "win_nums = [31, 10, 45, 1, 6, 19]\n",
    "\n",
    "answer = []\n",
    "\n",
    "winner = [6,6,5,4,3,2,1]\n",
    "\n",
    "# 1. 주어진 lottos와 win_nums에서 맞는 경우만 count\n",
    "# 2. lottos와 win_nums에서 맞는 경우 + lottos에 0이 있는 경우 count\n",
    "count = [] # 최고, 최저\n",
    "for lotto in lottos:\n",
    "    if lotto in win_nums:\n",
    "        count[0] += 1\n",
    "        count[1] += 1\n",
    "    if lotto == 0:\n",
    "        count[0] += 1\n",
    "\n",
    "print([winner[count[0]], winner[count[1]]])\n",
    "\n"
   ]
  }
 ],
 "metadata": {
  "interpreter": {
   "hash": "1b6f5e39272af23126cb09c6e66e7047f4afcbcfc539d7c8a315138d1a9187fa"
  },
  "kernelspec": {
   "display_name": "Python 3.8.12 ('dev38')",
   "language": "python",
   "name": "python3"
  },
  "language_info": {
   "codemirror_mode": {
    "name": "ipython",
    "version": 3
   },
   "file_extension": ".py",
   "mimetype": "text/x-python",
   "name": "python",
   "nbconvert_exporter": "python",
   "pygments_lexer": "ipython3",
   "version": "3.8.12"
  },
  "orig_nbformat": 4
 },
 "nbformat": 4,
 "nbformat_minor": 2
}
