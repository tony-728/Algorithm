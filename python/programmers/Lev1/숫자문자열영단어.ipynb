{
 "cells": [
  {
   "cell_type": "code",
   "execution_count": null,
   "metadata": {},
   "outputs": [],
   "source": [
    "\"\"\"\n",
    "숫자 문자열 영단어\n",
    "\"\"\"\n",
    "\n",
    "def solution(s):\n",
    "    number_string_dic = {\n",
    "        \"zero\": \"0\",\n",
    "        \"one\": \"1\",\n",
    "        \"two\": \"2\",\n",
    "        \"three\": \"3\",\n",
    "        \"four\": \"4\",\n",
    "        \"five\": \"5\",\n",
    "        \"six\": \"6\",\n",
    "        \"seven\": \"7\",\n",
    "        \"eight\": \"8\",\n",
    "        \"nine\": \"9\",\n",
    "    }\n",
    "    \n",
    "    answer = 0\n",
    "    result = \"\"\n",
    "    new_string = \"\"\n",
    "    \n",
    "    for i in s:\n",
    "        if i.isdigit():\n",
    "            result += i\n",
    "        else:\n",
    "            new_string += i\n",
    "            number_string = number_string_dic.get(new_string)\n",
    "            if number_string:\n",
    "                result += str(int(number_string))\n",
    "                new_string = \"\"\n",
    "    \n",
    "    answer = int(result)\n",
    "    return answer\n",
    "\n",
    "s = \"one4seveneight\""
   ]
  },
  {
   "cell_type": "code",
   "execution_count": null,
   "metadata": {},
   "outputs": [],
   "source": [
    "# 간단한 풀이\n",
    "num_dic = {\"zero\":\"0\", \"one\":\"1\", \"two\":\"2\", \"three\":\"3\", \"four\":\"4\", \"five\":\"5\", \"six\":\"6\", \"seven\":\"7\", \"eight\":\"8\", \"nine\":\"9\"}\n",
    "\n",
    "def solution(s):\n",
    "    answer = s\n",
    "    for key, value in num_dic.items():\n",
    "        answer = answer.replace(key, value)\n",
    "    return int(answer)"
   ]
  }
 ],
 "metadata": {
  "language_info": {
   "name": "python"
  },
  "orig_nbformat": 4
 },
 "nbformat": 4,
 "nbformat_minor": 2
}
