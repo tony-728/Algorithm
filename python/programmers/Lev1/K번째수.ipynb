{
 "cells": [
  {
   "cell_type": "code",
   "execution_count": null,
   "metadata": {},
   "outputs": [],
   "source": [
    "\"\"\"\n",
    "K번째 수\n",
    "\"\"\"\n",
    "\n",
    "def solution(array, commands):\n",
    "    answer = []\n",
    "    for i in commands:\n",
    "        answer.append(sorted(array[i[0]-1:i[1]])[i[2]-1])\n",
    "    return answer"
   ]
  }
 ],
 "metadata": {
  "language_info": {
   "name": "python"
  },
  "orig_nbformat": 4
 },
 "nbformat": 4,
 "nbformat_minor": 2
}
